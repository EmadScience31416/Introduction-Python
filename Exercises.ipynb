{
 "cells": [
  {
   "cell_type": "markdown",
   "id": "bc5d89d1",
   "metadata": {},
   "source": [
    "### PRACTICA 1\n",
    "\n",
    "Escribe un código que realice lo siguiente:\n",
    "\n",
    "1. Crea tres variables numéricas que representen las notas de tres estudiantes en una evaluación.\n",
    "2. Calcula el promedio de las tres notas.\n",
    "3. Encuentra la nota máxima y la mínima.\n",
    "4. Muestra los resultados utilizando un mensaje formateado.\n",
    "\n",
    "Puedes usar operaciones aritméticas, funciones como `max()` y `min()`, y f-strings para el formateo."
   ]
  },
  {
   "cell_type": "code",
   "execution_count": 1,
   "id": "2236687f",
   "metadata": {},
   "outputs": [
    {
     "name": "stdout",
     "output_type": "stream",
     "text": [
      "Promedio: 13.67\n",
      "Nota más alta: 17\n",
      "Nota más baja: 10\n"
     ]
    }
   ],
   "source": [
    "# Crear variables con notas\n",
    "nota1 = 14\n",
    "nota2 = 17\n",
    "nota3 = 10\n",
    "\n",
    "# Calcular promedio\n",
    "promedio = (nota1 + nota2 + nota3) / 3\n",
    "\n",
    "# Nota máxima y mínima\n",
    "nota_max = max(nota1, nota2, nota3)\n",
    "nota_min = min(nota1, nota2, nota3)\n",
    "\n",
    "# Mostrar resultados\n",
    "print(f\"Promedio: {promedio:.2f}\")\n",
    "print(f\"Nota más alta: {nota_max}\")\n",
    "print(f\"Nota más baja: {nota_min}\")\n"
   ]
  },
  {
   "cell_type": "markdown",
   "id": "1d41acc4",
   "metadata": {},
   "source": [
    "### PRACTICA 2\n",
    "\n",
    "Ahora implementa un pequeño programa que:\n",
    "\n",
    "1. Solicite al usuario (puedes usar `input()` si ejecutas el notebook) la nota de un estudiante.\n",
    "2. Determine si el estudiante aprueba (nota mayor o igual a 11) o desaprueba.\n",
    "3. Muestra un mensaje con el resultado (\"aprobado\" o \"desaprobado\").\n",
    "\n",
    "Utiliza operadores de comparación y un condicional `if/else`."
   ]
  },
  {
   "cell_type": "code",
   "execution_count": 2,
   "id": "ae949cc5",
   "metadata": {},
   "outputs": [
    {
     "name": "stdout",
     "output_type": "stream",
     "text": [
      "El estudiante está APROBADO ✅\n"
     ]
    }
   ],
   "source": [
    "# Solicitar nota\n",
    "nota = float(input(\"Ingresa la nota del estudiante: \"))\n",
    "\n",
    "# Verificar si aprueba\n",
    "if nota >= 11:\n",
    "    print(\"El estudiante está APROBADO ✅\")\n",
    "else:\n",
    "    print(\"El estudiante está DESAPROBADO ❌\")\n",
    "\n"
   ]
  },
  {
   "cell_type": "markdown",
   "id": "3405bd97",
   "metadata": {},
   "source": [
    "### PRACTICA 3\n",
    "\n",
    "1. Crea una lista de nombres de estudiantes y otra lista con sus respectivas calificaciones.\n",
    "2. Combina ambas listas en un diccionario donde cada nombre sea una clave y su nota el valor correspondiente.\n",
    "3. Calcula y muestra el promedio de la clase.\n",
    "4. Identifica al estudiante con la nota más alta."
   ]
  },
  {
   "cell_type": "code",
   "execution_count": 4,
   "id": "4e35b6c5",
   "metadata": {},
   "outputs": [
    {
     "name": "stdout",
     "output_type": "stream",
     "text": [
      "Notas de los estudiantes:\n",
      "Ana: 15\n",
      "Bruno: 18\n",
      "Carla: 12\n",
      "Diego: 19\n",
      "Elena: 17\n",
      "\n",
      "Promedio de la clase: 16.20\n",
      "Mejor estudiante: Elena con nota 19\n"
     ]
    }
   ],
   "source": [
    "nombres = [\"Ana\", \"Bruno\", \"Carla\", \"Diego\", \"Elena\"]\n",
    "notas = [15, 18, 12, 19, 17]\n",
    "\n",
    "estudiantes = dict(zip(nombres, notas))\n",
    "\n",
    "promedio = sum(notas) / len(notas)\n",
    "mejor_estudiante = max(estudiantes)\n",
    "mejor_nota = max(notas)\n",
    "\n",
    "print(\"Notas de los estudiantes:\")\n",
    "for nombre, nota in estudiantes.items():\n",
    "    print(f\"{nombre}: {nota}\")\n",
    "\n",
    "print(f\"\\nPromedio de la clase: {promedio:.2f}\")\n",
    "print(f\"Mejor estudiante: {mejor_estudiante} con nota {mejor_nota}\")\n"
   ]
  },
  {
   "cell_type": "markdown",
   "id": "ee6ad701",
   "metadata": {},
   "source": [
    "### PRACTICA 4\n",
    "\n",
    "Dados dos grupos de estudiantes que participan en diferentes cursos, representados como sets, realiza lo siguiente:\n",
    "\n",
    "1. Crea dos conjuntos (`set`) con los nombres de los estudiantes de cada curso (algunos estudiantes pueden estar en ambos cursos).\n",
    "2. Encuentra el conjunto de estudiantes que están en ambos cursos (intersección).\n",
    "3. Encuentra el conjunto de todos los estudiantes que participan en al menos un curso (unión).\n",
    "4. Encuentra los estudiantes que están solo en el primer curso y no en el segundo (diferencia)."
   ]
  },
  {
   "cell_type": "code",
   "execution_count": 5,
   "id": "1def2d97",
   "metadata": {},
   "outputs": [
    {
     "name": "stdout",
     "output_type": "stream",
     "text": [
      "Estudiantes en ambos cursos: {'María', 'Luis'}\n",
      "Estudiantes en al menos un curso: {'María', 'Ana', 'Luis', 'Sofía', 'Carlos', 'Pedro'}\n",
      "Solo en curso A: {'Carlos', 'Ana'}\n"
     ]
    }
   ],
   "source": [
    "# Conjuntos de alumnos\n",
    "curso_A = {\"Ana\", \"Luis\", \"María\", \"Carlos\"}\n",
    "curso_B = {\"Luis\", \"María\", \"Pedro\", \"Sofía\"}\n",
    "\n",
    "# Intersección (en ambos cursos)\n",
    "ambos = curso_A & curso_B\n",
    "\n",
    "# Unión (en al menos un curso)\n",
    "todos = curso_A | curso_B\n",
    "\n",
    "# Diferencia (solo en A)\n",
    "solo_A = curso_A - curso_B\n",
    "\n",
    "print(\"Estudiantes en ambos cursos:\", ambos)\n",
    "print(\"Estudiantes en al menos un curso:\", todos)\n",
    "print(\"Solo en curso A:\", solo_A)\n"
   ]
  },
  {
   "cell_type": "markdown",
   "id": "a1151584",
   "metadata": {},
   "source": [
    "### PRACTICA 5\n",
    "\n",
    "1. Dada una lista de calificaciones, recorre la lista usando un bucle `for` y cuenta cuántos estudiantes aprobaron (nota ≥ 11) y cuántos desaprobaron.\n",
    "2. Usa un condicional `if/else` dentro del bucle para determinar cada caso.\n",
    "3. Al finalizar, imprime el número total de aprobados y desaprobados."
   ]
  },
  {
   "cell_type": "code",
   "execution_count": 6,
   "id": "60a9e3bc",
   "metadata": {},
   "outputs": [
    {
     "name": "stdout",
     "output_type": "stream",
     "text": [
      "Aprobados: 4\n",
      "Desaprobados: 2\n"
     ]
    }
   ],
   "source": [
    "# Lista de calificaciones\n",
    "notas = [15, 8, 11, 17, 9, 14]\n",
    "\n",
    "aprobados = 0\n",
    "desaprobados = 0\n",
    "\n",
    "# Recorrer notas\n",
    "for nota in notas:\n",
    "    if nota >= 11:\n",
    "        aprobados += 1\n",
    "    else:\n",
    "        desaprobados += 1\n",
    "\n",
    "print(f\"Aprobados: {aprobados}\")\n",
    "print(f\"Desaprobados: {desaprobados}\")\n"
   ]
  },
  {
   "cell_type": "markdown",
   "id": "e18e51d6",
   "metadata": {},
   "source": [
    "### PRACTICA 6\n",
    "\n",
    "Escribe un programa que simule un sistema de ingreso de notas con un bucle `while`:\n",
    "\n",
    "1. Pide al usuario que ingrese las notas una a una (puedes detener la ejecución ingresando una cadena vacía o un valor negativo).\n",
    "2. Almacena las notas en una lista.\n",
    "3. Al terminar la entrada, muestra la cantidad de notas ingresadas y el promedio de todas las notas.\n",
    "\n",
    "Este ejercicio combina el uso de `while`, listas y operaciones aritméticas."
   ]
  },
  {
   "cell_type": "code",
   "execution_count": 10,
   "id": "2376171c",
   "metadata": {},
   "outputs": [
    {
     "name": "stdout",
     "output_type": "stream",
     "text": [
      "Cantidad de notas: 3\n",
      "Promedio: 50.67\n"
     ]
    }
   ],
   "source": [
    "notas = []\n",
    "\n",
    "while True:\n",
    "    entrada = input(\"Ingresa una nota (o vacío/negativo para salir): \")\n",
    "    if entrada == \"\" or float(entrada) < 0:\n",
    "        break\n",
    "    notas.append(float(entrada))\n",
    "\n",
    "if notas:\n",
    "    promedio = sum(notas) / len(notas)\n",
    "    print(f\"Cantidad de notas: {len(notas)}\")\n",
    "    print(f\"Promedio: {promedio:.2f}\")\n",
    "else:\n",
    "    print(\"No se ingresaron notas.\")\n"
   ]
  },
  {
   "cell_type": "markdown",
   "id": "2474f945",
   "metadata": {},
   "source": [
    "### PRACTICA 7\n",
    "\n",
    "Escribe una función `calcular_promedio` que reciba una lista de números y devuelva el promedio.\n",
    "\n",
    "Luego, prueba tu función con varias listas de notas (por ejemplo `[10, 12, 15, 18]`)."
   ]
  },
  {
   "cell_type": "code",
   "execution_count": 11,
   "id": "a31de547",
   "metadata": {},
   "outputs": [
    {
     "name": "stdout",
     "output_type": "stream",
     "text": [
      "Promedio lista 1: 13.75\n",
      "Promedio lista 2: 16.67\n"
     ]
    }
   ],
   "source": [
    "def calcular_promedio(lista_notas):\n",
    "    return sum(lista_notas) / len(lista_notas)\n",
    "\n",
    "# Probar función\n",
    "notas1 = [10, 12, 15, 18]\n",
    "notas2 = [14, 17, 19]\n",
    "\n",
    "print(f\"Promedio lista 1: {calcular_promedio(notas1):.2f}\")\n",
    "print(f\"Promedio lista 2: {calcular_promedio(notas2):.2f}\")\n"
   ]
  },
  {
   "cell_type": "markdown",
   "id": "aea25882",
   "metadata": {},
   "source": [
    "### PRACTICA 8\n",
    "\n",
    "Define una función `clasificar_nota` que reciba una nota numérica y devuelva una cadena que describa la calificación:\n",
    "\n",
    "* `A` si la nota es mayor o igual a 18\n",
    "* `B` si la nota está entre 15 y 17.99\n",
    "* `C` si la nota está entre 11 y 14.99\n",
    "* `D` si la nota es menor a 11\n",
    "\n",
    "Usa condicionales `if/elif/else`. Luego, crea una lista de notas y aplica la función a cada una usando un bucle o una comprensión de listas."
   ]
  },
  {
   "cell_type": "code",
   "execution_count": 12,
   "id": "b2531793",
   "metadata": {},
   "outputs": [
    {
     "name": "stdout",
     "output_type": "stream",
     "text": [
      "Nota 19: Categoría A\n",
      "Nota 16: Categoría B\n",
      "Nota 14: Categoría C\n",
      "Nota 10: Categoría D\n",
      "Nota 17: Categoría B\n",
      "Nota 11: Categoría C\n"
     ]
    }
   ],
   "source": [
    "def clasificar_nota(nota):\n",
    "    if nota >= 18:\n",
    "        return \"A\"\n",
    "    elif nota >= 15:\n",
    "        return \"B\"\n",
    "    elif nota >= 11:\n",
    "        return \"C\"\n",
    "    else:\n",
    "        return \"D\"\n",
    "\n",
    "# Lista de notas\n",
    "notas = [19, 16, 14, 10, 17, 11]\n",
    "\n",
    "# Clasificar todas\n",
    "clasificaciones = [clasificar_nota(n) for n in notas]\n",
    "\n",
    "for n, c in zip(notas, clasificaciones):\n",
    "    print(f\"Nota {n}: Categoría {c}\")\n"
   ]
  }
 ],
 "metadata": {
  "kernelspec": {
   "display_name": "Python 3",
   "language": "python",
   "name": "python3"
  },
  "language_info": {
   "codemirror_mode": {
    "name": "ipython",
    "version": 3
   },
   "file_extension": ".py",
   "mimetype": "text/x-python",
   "name": "python",
   "nbconvert_exporter": "python",
   "pygments_lexer": "ipython3",
   "version": "3.13.5"
  }
 },
 "nbformat": 4,
 "nbformat_minor": 5
}
