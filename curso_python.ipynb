{
 "cells": [
  {
   "cell_type": "markdown",
   "id": "9dccf9ac",
   "metadata": {},
   "source": [
    "# Curso de Python\n",
    "\n",
    "Bienvenido/a al curso de Python. En este notebook encontrarás teoría y ejercicios prácticos para aprender los conceptos básicos del lenguaje. Cada sección incluye explicaciones y ejemplos de código, seguidos de ejercicios (marcados como **PRACTICA**) donde podrás aplicar lo aprendido. ¡Comencemos!"
   ]
  },
  {
   "cell_type": "markdown",
   "id": "1b6fe62c",
   "metadata": {},
   "source": [
    "## TIPOS DE DATOS Y OPERADORES\n",
    "\n",
    "En esta sección cubriremos los fundamentos de Python: cómo trabajar con datos numéricos y de texto, las operaciones aritméticas y lógicas básicas, y cómo formatear cadenas para mostrar resultados de manera clara."
   ]
  },
  {
   "cell_type": "markdown",
   "id": "c8e70ee5",
   "metadata": {},
   "source": [
    "### 1. Operaciones I\n",
    "\n",
    "Python soporta operaciones aritméticas básicas como suma (`+`), resta (`-`), multiplicación (`*`), división (`/`) y exponente (`**`). También existe la división entera (`//`) y el módulo (`%`) que devuelve el residuo de una división.\n",
    "\n",
    "**Ejemplo:**"
   ]
  },
  {
   "cell_type": "code",
   "execution_count": null,
   "id": "c401e22b",
   "metadata": {},
   "outputs": [],
   "source": [
    "# Operaciones aritméticas básicas\n",
    "x = 10\n",
    "y = 3\n",
    "print('Suma:', x + y)      # 13\n",
    "print('Resta:', x - y)     # 7\n",
    "print('Multiplicación:', x * y)  # 30\n",
    "print('División:', x / y)  # 3.333...\n",
    "print('División entera:', x // y)  # 3\n",
    "print('Módulo:', x % y)    # 1\n",
    "print('Exponente:', x ** y) # 1000"
   ]
  },
  {
   "cell_type": "markdown",
   "id": "b173a857",
   "metadata": {},
   "source": [
    "En Python se pueden asignar valores a variables utilizando el operador `=`. También existen operadores abreviados como `+=` y `-=`, que incrementan o decrementan el valor de una variable."
   ]
  },
  {
   "cell_type": "code",
   "execution_count": null,
   "id": "2298e84d",
   "metadata": {},
   "outputs": [],
   "source": [
    "# Operadores de asignación abreviados\n",
    "n = 5\n",
    "n += 2  # equivalente a n = n + 2\n",
    "print('n después de += 2:', n)\n",
    "n -= 1  # equivalente a n = n - 1\n",
    "print('n después de -= 1:', n)"
   ]
  },
  {
   "cell_type": "markdown",
   "id": "83d1975c",
   "metadata": {},
   "source": [
    "### 2. Operaciones II\n",
    "\n",
    "Además de las operaciones aritméticas, Python permite realizar comparaciones y operaciones lógicas.\n",
    "\n",
    "Los operadores de comparación devuelven valores booleanos (`True` o `False`) y son: `==` (igual a), `!=` (distinto de), `<` (menor que), `<=` (menor o igual que), `>` (mayor que) y `>=` (mayor o igual que).\n",
    "\n",
    "Los operadores lógicos combinan valores booleanos: `and` (y), `or` (o) y `not` (negación).\n",
    "\n",
    "**Ejemplo:**"
   ]
  },
  {
   "cell_type": "code",
   "execution_count": null,
   "id": "48cf9430",
   "metadata": {},
   "outputs": [],
   "source": [
    "# Operadores de comparación y lógicos\n",
    "a = 7\n",
    "b = 5\n",
    "print('¿a es mayor que b?', a > b)\n",
    "print('¿a es igual a b?', a == b)\n",
    "print('¿a es distinto de b?', a != b)\n",
    "\n",
    "# Operaciones lógicas\n",
    "cond1 = (a > b)\n",
    "cond2 = (b < 3)\n",
    "print('cond1 and cond2:', cond1 and cond2)  # True y False -> False\n",
    "print('cond1 or cond2:', cond1 or cond2)    # True o False -> True\n",
    "print('not cond1:', not cond1)              # Negación de True -> False"
   ]
  },
  {
   "cell_type": "markdown",
   "id": "95b07dd8",
   "metadata": {},
   "source": [
    "### 3. Cadenas\n",
    "\n",
    "Las cadenas (tipo `str`) permiten trabajar con texto. Se definen utilizando comillas simples (`'`) o dobles (\"\"\"). Las cadenas son secuencias, por lo que se pueden indexar y cortar (slice).\n",
    "\n",
    "**Operaciones comunes con cadenas:**\n",
    "\n",
    "* Concatenación: usar `+` para unir cadenas.\n",
    "* Repetición: usar `*` con un número entero.\n",
    "* Longitud: `len(cadena)` devuelve el número de caracteres.\n",
    "* Indexación y slicing: `cadena[i]` obtiene el carácter en la posición `i`, `cadena[inicio:fin]` obtiene un segmento.\n",
    "\n",
    "**Ejemplo:**"
   ]
  },
  {
   "cell_type": "code",
   "execution_count": null,
   "id": "8264ac3f",
   "metadata": {},
   "outputs": [],
   "source": [
    "# Creación y operaciones con cadenas\n",
    "saludo = \"Hola\"\n",
    "nombre = 'Ana'\n",
    "mensaje = saludo + ', ' + nombre  # concatenación\n",
    "print(mensaje)\n",
    "\n",
    "# Repetición\n",
    "despliegue = '-' * 10\n",
    "print(despliegue)\n",
    "\n",
    "# Longitud\n",
    "print('Longitud de saludo:', len(saludo))\n",
    "\n",
    "# Indexación y slicing\n",
    "print('Primer carácter:', saludo[0])  # H\n",
    "print('Últimos dos caracteres:', saludo[-2:])  # la"
   ]
  },
  {
   "cell_type": "markdown",
   "id": "32553f06",
   "metadata": {},
   "source": [
    "### 4. Formateo\n",
    "\n",
    "Mostrar información de manera legible es fundamental. Python ofrece varias formas de formatear cadenas:\n",
    "\n",
    "* **F-strings (Python 3.6+)**: permiten incrustar expresiones directamente dentro de una cadena prefijada con `f`.\n",
    "* **Método `format()`**: se sustituyen marcadores `{}` por valores proporcionados.\n",
    "* **Operador `%`** (deprecated en versiones modernas)\n",
    "\n",
    "Las f-strings son la forma recomendada por ser concisas y legibles.\n",
    "\n",
    "**Ejemplo:**"
   ]
  },
  {
   "cell_type": "code",
   "execution_count": null,
   "id": "ddb76501",
   "metadata": {},
   "outputs": [],
   "source": [
    "# Formateo de cadenas\n",
    "nombre = 'Carla'\n",
    "edad = 28\n",
    "promedio = 16.75\n",
    "\n",
    "# Usando f-string\n",
    "print(f'{nombre} tiene {edad} años y un promedio de {promedio:.2f}')\n",
    "\n",
    "# Usando format()\n",
    "print('{0} tiene {1} años y un promedio de {2:.2f}'.format(nombre, edad, promedio))"
   ]
  },
  {
   "cell_type": "markdown",
   "id": "8bd5b564",
   "metadata": {},
   "source": [
    "### 5. PRACTICA 1 – Evaluar a alumnos\n",
    "\n",
    "Escribe un código que realice lo siguiente:\n",
    "\n",
    "1. Crea tres variables numéricas que representen las notas de tres estudiantes en una evaluación.\n",
    "2. Calcula el promedio de las tres notas.\n",
    "3. Encuentra la nota máxima y la mínima.\n",
    "4. Muestra los resultados utilizando un mensaje formateado.\n",
    "\n",
    "Puedes usar operaciones aritméticas, funciones como `max()` y `min()`, y f-strings para el formateo."
   ]
  },
  {
   "cell_type": "code",
   "execution_count": null,
   "id": "45e5783b",
   "metadata": {},
   "outputs": [],
   "source": [
    "# Escribe tu solución aquí\n",
    "# Paso 1: define las notas de tres estudiantes\n",
    "\n",
    "# Paso 2: calcula el promedio\n",
    "\n",
    "# Paso 3: encuentra la nota máxima y mínima\n",
    "\n",
    "# Paso 4: muestra el resultado\n"
   ]
  },
  {
   "cell_type": "markdown",
   "id": "3cf95b26",
   "metadata": {},
   "source": [
    "### 6. PRACTICA 2 – Evaluar a alumnos\n",
    "\n",
    "Ahora implementa un pequeño programa que:\n",
    "\n",
    "1. Solicite al usuario (puedes usar `input()` si ejecutas el notebook) la nota de un estudiante.\n",
    "2. Determine si el estudiante aprueba (nota mayor o igual a 11) o desaprueba.\n",
    "3. Muestra un mensaje con el resultado (\"aprobado\" o \"desaprobado\").\n",
    "\n",
    "Utiliza operadores de comparación y un condicional `if/else`."
   ]
  },
  {
   "cell_type": "code",
   "execution_count": null,
   "id": "b1ef4bd3",
   "metadata": {},
   "outputs": [],
   "source": [
    "# Escribe tu solución aquí\n",
    "\n",
    "# nota = float(input('Ingresa la nota del estudiante: '))\n",
    "# if nota >= 11:\n",
    "#     print('¡El estudiante está aprobado!')\n",
    "# else:\n",
    "#     print('El estudiante está desaprobado.')\n"
   ]
  },
  {
   "cell_type": "markdown",
   "id": "a2f57d37",
   "metadata": {},
   "source": [
    "## COLECCIONES\n",
    "\n",
    "Python ofrece estructuras de datos incorporadas para agrupar elementos. Las colecciones más comunes son listas, tuplas, diccionarios y conjuntos (sets). En esta sección exploraremos cómo crearlas, modificarlas y usarlas."
   ]
  },
  {
   "cell_type": "markdown",
   "id": "caa97f7d",
   "metadata": {},
   "source": [
    "### 1. Tipos de datos\n",
    "\n",
    "Las principales colecciones en Python son:\n",
    "\n",
    "* **Listas (`list`)**: ordenadas y mutables. Se definen con corchetes `[ ]`.\n",
    "* **Tuplas (`tuple`)**: ordenadas e inmutables. Se definen con paréntesis `( )`.\n",
    "* **Diccionarios (`dict`)**: pares clave-valor. Se definen con llaves `{ }` y usan claves para acceder a valores.\n",
    "* **Conjuntos (`set`)**: colección de valores únicos, no ordenada. Se definen con llaves `{ }` o la función `set()`."
   ]
  },
  {
   "cell_type": "markdown",
   "id": "a6912857",
   "metadata": {},
   "source": [
    "### 2. Listas I\n",
    "\n",
    "Una lista permite almacenar una secuencia de elementos de cualquier tipo. Se pueden añadir, eliminar y modificar elementos. Algunas operaciones comunes:\n",
    "\n",
    "* Acceso por índice: `lista[i]`\n",
    "* Agregar elementos: `append()`, `extend()`\n",
    "* Insertar en posición: `insert(indice, valor)`\n",
    "* Eliminar: `remove(valor)`, `pop(indice)`\n",
    "\n",
    "**Ejemplo:**"
   ]
  },
  {
   "cell_type": "code",
   "execution_count": null,
   "id": "c3a170b9",
   "metadata": {},
   "outputs": [],
   "source": [
    "# Operaciones con listas\n",
    "materias = ['Matemática', 'Historia', 'Biología']\n",
    "print('Lista inicial:', materias)\n",
    "\n",
    "# Agregar un elemento al final\n",
    "materias.append('Química')\n",
    "print('Después de append:', materias)\n",
    "\n",
    "# Insertar en una posición específica\n",
    "materias.insert(1, 'Arte')\n",
    "print('Después de insert:', materias)\n",
    "\n",
    "# Eliminar por valor\n",
    "materias.remove('Historia')\n",
    "print('Después de remove:', materias)\n",
    "\n",
    "# Eliminar y obtener el último elemento\n",
    "ultima = materias.pop()\n",
    "print('Elemento eliminado con pop:', ultima)\n",
    "print('Lista final:', materias)\n"
   ]
  },
  {
   "cell_type": "markdown",
   "id": "b4fcfe7c",
   "metadata": {},
   "source": [
    "### 3. Listas II\n",
    "\n",
    "Las listas tienen funcionalidades más avanzadas como comprensiones y métodos adicionales:\n",
    "\n",
    "* **Comprensión de listas**: permite generar listas de manera compacta. Ejemplo: `[x*2 for x in range(5)]` genera `[0, 2, 4, 6, 8]`.\n",
    "* Métodos de ordenación: `sort()` (en sitio) y `sorted()` (devuelve una nueva lista ordenada).\n",
    "* Otras funciones útiles: `sum()`, `min()`, `max()`, `enumerate()` para iterar con índices.\n",
    "\n",
    "**Ejemplo:**"
   ]
  },
  {
   "cell_type": "code",
   "execution_count": null,
   "id": "08818764",
   "metadata": {},
   "outputs": [],
   "source": [
    "# Comprensión de listas\n",
    "dobles = [x*2 for x in range(6)]\n",
    "print('Doblés:', dobles)\n",
    "\n",
    "# Ordenar una lista de números\n",
    "desordenada = [3, 1, 4, 1, 5]\n",
    "desordenada.sort()\n",
    "print('Lista ordenada:', desordenada)\n",
    "\n",
    "# Iterar con enumerate\n",
    "for indice, valor in enumerate(['a', 'b', 'c']):\n",
    "    print(f'Índice {indice}, valor {valor}')\n"
   ]
  },
  {
   "cell_type": "markdown",
   "id": "b2f3d8d3",
   "metadata": {},
   "source": [
    "### 4. Tuples\n",
    "\n",
    "Las tuplas son similares a las listas pero inmutables: una vez creadas, sus elementos no pueden cambiarse. Esto las hace útiles para almacenar datos que no deben modificarse.\n",
    "\n",
    "**Ejemplo:**"
   ]
  },
  {
   "cell_type": "code",
   "execution_count": null,
   "id": "55fd9a17",
   "metadata": {},
   "outputs": [],
   "source": [
    "# Crear una tupla\n",
    "tupla = (1, 2, 3)\n",
    "print('Tupla:', tupla)\n",
    "print('Elemento en posición 0:', tupla[0])\n",
    "\n",
    "# Convertir lista a tupla\n",
    "datos_lista = ['Python', 3.10]\n",
    "datos_tupla = tuple(datos_lista)\n",
    "print('Tupla convertida:', datos_tupla)\n"
   ]
  },
  {
   "cell_type": "markdown",
   "id": "0494849e",
   "metadata": {},
   "source": [
    "### 5. Diccionarios\n",
    "\n",
    "Un diccionario almacena pares clave-valor. Las claves deben ser inmutables (por ejemplo, cadenas o tuplas), y cada clave está asociada a un valor.\n",
    "\n",
    "Operaciones comunes:\n",
    "\n",
    "* Crear un diccionario: `dic = {'clave': valor, ...}`\n",
    "* Acceder a un valor: `dic['clave']`\n",
    "* Añadir o actualizar: `dic['nueva_clave'] = valor`\n",
    "* Eliminar: `del dic['clave']` o `pop('clave')`\n",
    "* Iterar: `for clave, valor in dic.items():`\n",
    "\n",
    "**Ejemplo:**"
   ]
  },
  {
   "cell_type": "code",
   "execution_count": null,
   "id": "9689c6ab",
   "metadata": {},
   "outputs": [],
   "source": [
    "# Crear y manipular diccionarios\n",
    "estudiante = {'nombre': 'Luis', 'edad': 20, 'promedio': 15.2}\n",
    "print('Diccionario inicial:', estudiante)\n",
    "\n",
    "# Acceso y actualización\n",
    "era = estudiante['edad']\n",
    "print('Edad:', era)\n",
    "estudiante['edad'] = 21\n",
    "print('Edad actualizada:', estudiante['edad'])\n",
    "\n",
    "# Agregar una nueva entrada\n",
    "estudiante['curso'] = 'Programación'\n",
    "print('Diccionario con nueva entrada:', estudiante)\n",
    "\n",
    "# Iterar sobre claves y valores\n",
    "for clave, valor in estudiante.items():\n",
    "    print(f'{clave}: {valor}')\n"
   ]
  },
  {
   "cell_type": "markdown",
   "id": "901fdfeb",
   "metadata": {},
   "source": [
    "### 6. Sets\n",
    "\n",
    "Los sets son colecciones de elementos únicos sin un orden específico. Son útiles para eliminar duplicados y realizar operaciones de conjuntos (unión, intersección, diferencia).\n",
    "\n",
    "**Operaciones básicas:**\n",
    "\n",
    "* Crear un set: `conjunto = {1, 2, 3}` o `set([1, 2, 3])`\n",
    "* Añadir elementos: `add()`\n",
    "* Unión: `set1 | set2` o `set1.union(set2)`\n",
    "* Intersección: `set1 & set2` o `set1.intersection(set2)`\n",
    "* Diferencia: `set1 - set2`\n",
    "\n",
    "**Ejemplo:**"
   ]
  },
  {
   "cell_type": "code",
   "execution_count": null,
   "id": "ef312202",
   "metadata": {},
   "outputs": [],
   "source": [
    "# Operaciones con sets\n",
    "A = {1, 2, 3}\n",
    "B = {3, 4, 5}\n",
    "\n",
    "# Añadir elemento\n",
    "A.add(4)\n",
    "print('A después de añadir 4:', A)\n",
    "\n",
    "# Unión, intersección y diferencia\n",
    "print('Unión:', A | B)\n",
    "print('Intersección:', A & B)\n",
    "print('Diferencia (A - B):', A - B)\n"
   ]
  },
  {
   "cell_type": "markdown",
   "id": "5c893b31",
   "metadata": {},
   "source": [
    "### 7. PRACTICA 3 – Evaluar a alumnos\n",
    "\n",
    "1. Crea una lista de nombres de estudiantes y otra lista con sus respectivas calificaciones.\n",
    "2. Combina ambas listas en un diccionario donde cada nombre sea una clave y su nota el valor correspondiente.\n",
    "3. Calcula y muestra el promedio de la clase.\n",
    "4. Identifica al estudiante con la nota más alta.\n",
    "\n",
    "Utiliza operaciones de listas, bucles y funciones como `zip()`, `max()` y `sum()`."
   ]
  },
  {
   "cell_type": "code",
   "execution_count": null,
   "id": "d54a2d3f",
   "metadata": {},
   "outputs": [],
   "source": [
    "# Escribe tu solución aquí\n",
    "\n",
    "# Paso 1: listas de nombres y notas\n",
    "\n",
    "# Paso 2: crear un diccionario nombres -> notas\n",
    "\n",
    "# Paso 3: calcular el promedio\n",
    "\n",
    "# Paso 4: encontrar al estudiante con mayor nota\n"
   ]
  },
  {
   "cell_type": "markdown",
   "id": "aa4aeb4e",
   "metadata": {},
   "source": [
    "### 8. PRACTICA 4 – Evaluar a alumnos\n",
    "\n",
    "Dados dos grupos de estudiantes que participan en diferentes cursos, representados como sets, realiza lo siguiente:\n",
    "\n",
    "1. Crea dos conjuntos (`set`) con los nombres de los estudiantes de cada curso (algunos estudiantes pueden estar en ambos cursos).\n",
    "2. Encuentra el conjunto de estudiantes que están en ambos cursos (intersección).\n",
    "3. Encuentra el conjunto de todos los estudiantes que participan en al menos un curso (unión).\n",
    "4. Encuentra los estudiantes que están solo en el primer curso y no en el segundo (diferencia)."
   ]
  },
  {
   "cell_type": "code",
   "execution_count": null,
   "id": "92dc88f3",
   "metadata": {},
   "outputs": [],
   "source": [
    "# Escribe tu solución aquí\n",
    "\n",
    "# Paso 1: define los sets de estudiantes\n",
    "\n",
    "# Paso 2: intersección\n",
    "\n",
    "# Paso 3: unión\n",
    "\n",
    "# Paso 4: diferencia del primer curso con el segundo\n"
   ]
  },
  {
   "cell_type": "markdown",
   "id": "777ece6d",
   "metadata": {},
   "source": [
    "## CONTROL DE FLUJO\n",
    "\n",
    "Los programas toman decisiones y repiten acciones mediante estructuras de control de flujo. Python ofrece condicionales (`if/elif/else`) y bucles (`for`, `while`) para controlar la ejecución de instrucciones."
   ]
  },
  {
   "cell_type": "markdown",
   "id": "b06eb22e",
   "metadata": {},
   "source": [
    "### 1. IF/ELSE\n",
    "\n",
    "La sentencia `if` permite ejecutar un bloque de código si se cumple una condición. Se pueden encadenar condiciones con `elif` (else if) y se puede definir un bloque por defecto con `else`.\n",
    "\n",
    "**Ejemplo:**"
   ]
  },
  {
   "cell_type": "code",
   "execution_count": null,
   "id": "049981c5",
   "metadata": {},
   "outputs": [],
   "source": [
    "edad = 17\n",
    "if edad >= 18:\n",
    "    print('Eres mayor de edad')\n",
    "elif edad >= 13:\n",
    "    print('Eres adolescente')\n",
    "else:\n",
    "    print('Eres niño o niña')\n"
   ]
  },
  {
   "cell_type": "markdown",
   "id": "7d286bfa",
   "metadata": {},
   "source": [
    "### 2. FOR LOOP\n",
    "\n",
    "Los bucles `for` iteran sobre secuencias (listas, tuplas, diccionarios, cadenas, etc.). El bucle ejecuta un bloque por cada elemento de la secuencia.\n",
    "\n",
    "**Ejemplo:**"
   ]
  },
  {
   "cell_type": "code",
   "execution_count": null,
   "id": "bfa4ed25",
   "metadata": {},
   "outputs": [],
   "source": [
    "# Recorrer una lista de números\n",
    "numeros = [1, 2, 3, 4]\n",
    "for n in numeros:\n",
    "    print(f'Número: {n}')\n",
    "\n",
    "# Recorrer un diccionario\n",
    "alumno = {'nombre': 'Juan', 'edad': 19}\n",
    "for clave, valor in alumno.items():\n",
    "    print(f'{clave} -> {valor}')\n"
   ]
  },
  {
   "cell_type": "markdown",
   "id": "98f035af",
   "metadata": {},
   "source": [
    "### 3. WHILE LOOP\n",
    "\n",
    "El bucle `while` ejecuta repetidamente un bloque mientras una condición sea `True`. Es útil cuando no se conoce de antemano cuántas iteraciones serán necesarias.\n",
    "\n",
    "Ten cuidado de no crear un bucle infinito: asegúrate de que la condición eventualmente se vuelva falsa.\n",
    "\n",
    "**Ejemplo:**"
   ]
  },
  {
   "cell_type": "code",
   "execution_count": null,
   "id": "5c88f78a",
   "metadata": {},
   "outputs": [],
   "source": [
    "contador = 0\n",
    "while contador < 5:\n",
    "    print('contador vale', contador)\n",
    "    contador += 1\n",
    "print('Fin del bucle while')\n"
   ]
  },
  {
   "cell_type": "markdown",
   "id": "7cb2acd7",
   "metadata": {},
   "source": [
    "### 4. PRACTICA 5 – Evaluar a alumnos\n",
    "\n",
    "1. Dada una lista de calificaciones, recorre la lista usando un bucle `for` y cuenta cuántos estudiantes aprobaron (nota ≥ 11) y cuántos desaprobaron.\n",
    "2. Usa un condicional `if/else` dentro del bucle para determinar cada caso.\n",
    "3. Al finalizar, imprime el número total de aprobados y desaprobados."
   ]
  },
  {
   "cell_type": "code",
   "execution_count": null,
   "id": "76a334ee",
   "metadata": {},
   "outputs": [],
   "source": [
    "# Escribe tu solución aquí\n",
    "\n",
    "# Paso 1: define una lista de calificaciones (por ejemplo, [14, 9, 11, 18, 7])\n",
    "\n",
    "# Paso 2: inicializa contadores para aprobados y desaprobados\n",
    "\n",
    "# Paso 3: recorre la lista con un for\n",
    "#         usa un condicional para incrementar el contador correspondiente\n",
    "\n",
    "# Paso 4: imprime los resultados\n"
   ]
  },
  {
   "cell_type": "markdown",
   "id": "b14a32c1",
   "metadata": {},
   "source": [
    "### 5. PRACTICA 6 – Evaluar a alumnos\n",
    "\n",
    "Escribe un programa que simule un sistema de ingreso de notas con un bucle `while`:\n",
    "\n",
    "1. Pide al usuario que ingrese las notas una a una (puedes detener la ejecución ingresando una cadena vacía o un valor negativo).\n",
    "2. Almacena las notas en una lista.\n",
    "3. Al terminar la entrada, muestra la cantidad de notas ingresadas y el promedio de todas las notas.\n",
    "\n",
    "Este ejercicio combina el uso de `while`, listas y operaciones aritméticas."
   ]
  },
  {
   "cell_type": "code",
   "execution_count": null,
   "id": "92ce91e4",
   "metadata": {},
   "outputs": [],
   "source": [
    "# Escribe tu solución aquí\n",
    "\n",
    "# notas = []\n",
    "# while True:\n",
    "#     entrada = input('Ingresa una nota (o presiona Enter para terminar): ')\n",
    "#     if entrada == '':\n",
    "#         break\n",
    "#     nota = float(entrada)\n",
    "#     if nota < 0:\n",
    "#         break\n",
    "#     notas.append(nota)\n",
    "# \n",
    "# # Calcular promedio\n",
    "# if notas:\n",
    "#     promedio = sum(notas) / len(notas)\n",
    "#     print(f'Se ingresaron {len(notas)} notas. El promedio es {promedio:.2f}')\n",
    "# else:\n",
    "#     print('No se ingresaron notas.')\n"
   ]
  },
  {
   "cell_type": "markdown",
   "id": "27292064",
   "metadata": {},
   "source": [
    "## FUNCIONES\n",
    "\n",
    "Las funciones permiten agrupar código reutilizable en bloques con un nombre. Facilitan la organización y evitan la repetición. En Python se definen con la palabra clave `def` y pueden recibir argumentos y devolver valores."
   ]
  },
  {
   "cell_type": "markdown",
   "id": "a8557807",
   "metadata": {},
   "source": [
    "### 1. Estructura\n",
    "\n",
    "La estructura básica de una función es:\n",
    "\n",
    "    def nombre_funcion(parametros):\n",
    "        \"\"\"Documentación opcional\"\"\"\n",
    "        # instrucciones\n",
    "        return valor\n",
    "\n",
    "`return` finaliza la función y devuelve el valor indicado (si se omite, la función devuelve `None`).\n",
    "\n",
    "**Ejemplo:**"
   ]
  },
  {
   "cell_type": "code",
   "execution_count": null,
   "id": "fc21fac5",
   "metadata": {},
   "outputs": [],
   "source": [
    "# Definición y llamada de una función simple\n",
    "\n",
    "def saludar(persona):\n",
    "    \"\"\"Devuelve un saludo personalizado.\"\"\"\n",
    "    return f'¡Hola, {persona}!'\n",
    "\n",
    "saludo = saludar('María')\n",
    "print(saludo)\n"
   ]
  },
  {
   "cell_type": "markdown",
   "id": "50abdee3",
   "metadata": {},
   "source": [
    "### 2. Argumentos\n",
    "\n",
    "Las funciones pueden recibir diferentes tipos de argumentos:\n",
    "\n",
    "* **Posicionales**: se pasan en orden.\n",
    "* **Nombrados (keywords)**: se especifica el nombre de cada parámetro.\n",
    "* **Valores por defecto**: se asignan si no se proporciona un argumento.\n",
    "* **`*args` y `**kwargs`**: permiten recibir un número variable de argumentos posicionales y nombrados.\n",
    "\n",
    "**Ejemplo:**"
   ]
  },
  {
   "cell_type": "code",
   "execution_count": null,
   "id": "d11c23e9",
   "metadata": {},
   "outputs": [],
   "source": [
    "# Función con diferentes tipos de argumentos\n",
    "\n",
    "def calcular_area(base, altura=1.0):\n",
    "    \"\"\"Calcula el área de un rectángulo o triángulo de base y altura.\"\"\"\n",
    "    return base * altura\n",
    "\n",
    "print(calcular_area(5))          # usa la altura por defecto (1.0)\n",
    "print(calcular_area(5, 3))       # usa altura = 3\n",
    "print(calcular_area(base=7, altura=2))\n"
   ]
  },
  {
   "cell_type": "markdown",
   "id": "d43f446e",
   "metadata": {},
   "source": [
    "### 3. Alcance\n",
    "\n",
    "El **alcance** de una variable determina desde qué lugares del código se puede acceder a ella.\n",
    "\n",
    "* Variables definidas dentro de una función son locales a esa función.\n",
    "* Variables definidas en el exterior son globales para ese archivo.\n",
    "* Para modificar una variable global desde una función se usa la palabra clave `global` (no recomendable salvo casos puntuales).\n",
    "\n",
    "**Ejemplo:**"
   ]
  },
  {
   "cell_type": "code",
   "execution_count": null,
   "id": "713e4d9f",
   "metadata": {},
   "outputs": [],
   "source": [
    "# Ejemplo de alcance de variables\n",
    "\n",
    "def incrementar():\n",
    "    x = 5  # variable local\n",
    "    return x + 1\n",
    "\n",
    "x = 10  # variable global\n",
    "print('Valor de x global:', x)\n",
    "\n",
    "nuevo = incrementar()\n",
    "print('Valor devuelto por la función:', nuevo)\n",
    "print('Valor de x global después de la llamada:', x)\n"
   ]
  },
  {
   "cell_type": "markdown",
   "id": "fbc1fc19",
   "metadata": {},
   "source": [
    "### 4. PRACTICA 7 – Evaluar a alumnos\n",
    "\n",
    "Escribe una función `calcular_promedio` que reciba una lista de números y devuelva el promedio.\n",
    "\n",
    "Luego, prueba tu función con varias listas de notas (por ejemplo `[10, 12, 15, 18]`)."
   ]
  },
  {
   "cell_type": "code",
   "execution_count": null,
   "id": "986036a1",
   "metadata": {},
   "outputs": [],
   "source": [
    "# Escribe tu solución aquí\n",
    "\n",
    "def calcular_promedio(notas):\n",
    "    # Completa la función para devolver el promedio\n",
    "    pass\n",
    "\n",
    "# Prueba de la función\n",
    "# resultado = calcular_promedio([10, 12, 15, 18])\n",
    "# print('Promedio:', resultado)\n"
   ]
  },
  {
   "cell_type": "markdown",
   "id": "8d874ced",
   "metadata": {},
   "source": [
    "### 5. PRACTICA 8 – Evaluar a alumnos\n",
    "\n",
    "Define una función `clasificar_nota` que reciba una nota numérica y devuelva una cadena que describa la calificación:\n",
    "\n",
    "* `A` si la nota es mayor o igual a 18\n",
    "* `B` si la nota está entre 15 y 17.99\n",
    "* `C` si la nota está entre 11 y 14.99\n",
    "* `D` si la nota es menor a 11\n",
    "\n",
    "Usa condicionales `if/elif/else`. Luego, crea una lista de notas y aplica la función a cada una usando un bucle o una comprensión de listas."
   ]
  },
  {
   "cell_type": "code",
   "execution_count": null,
   "id": "dfd2093c",
   "metadata": {},
   "outputs": [],
   "source": [
    "# Escribe tu solución aquí\n",
    "\n",
    "def clasificar_nota(nota):\n",
    "    # Completa para devolver la categoría correspondiente según la nota\n",
    "    pass\n",
    "\n",
    "# Lista de notas de ejemplo\n",
    "notas_ejemplo = [19, 16, 13, 9]\n",
    "\n",
    "# Aplica la función a cada nota\n",
    "# categorias = []\n",
    "# for n in notas_ejemplo:\n",
    "#     categorias.append(clasificar_nota(n))\n",
    "# print(categorias)\n"
   ]
  },
  {
   "cell_type": "markdown",
   "id": "00802bb3",
   "metadata": {},
   "source": [
    "## CLASES\n",
    "\n",
    "La programación orientada a objetos (POO) permite modelar entidades del mundo real usando clases y objetos. Una **clase** define un tipo de objeto con atributos (datos) y métodos (funciones). Los **objetos** son instancias de una clase.\n",
    "\n",
    "Para definir una clase en Python se usa la palabra clave `class`. El método `__init__` se ejecuta al crear una instancia y se utiliza para inicializar atributos.\n",
    "\n",
    "**Ejemplo:**"
   ]
  },
  {
   "cell_type": "code",
   "execution_count": null,
   "id": "4edff5b6",
   "metadata": {},
   "outputs": [],
   "source": [
    "# Definición de una clase Estudiante\n",
    "\n",
    "class Estudiante:\n",
    "    def __init__(self, nombre, notas):\n",
    "        self.nombre = nombre\n",
    "        self.notas = notas  # lista de calificaciones\n",
    "    \n",
    "    def calcular_promedio(self):\n",
    "        return sum(self.notas) / len(self.notas)\n",
    "    \n",
    "    def es_aprobado(self):\n",
    "        return self.calcular_promedio() >= 11\n",
    "\n",
    "# Crear una instancia de Estudiante\n",
    "alumno = Estudiante('Sofía', [14, 15, 16])\n",
    "print('Promedio de', alumno.nombre, ':', alumno.calcular_promedio())\n",
    "print('¿Aprobado?', alumno.es_aprobado())\n"
   ]
  },
  {
   "cell_type": "markdown",
   "id": "22126f77",
   "metadata": {},
   "source": [
    "### PRACTICA – Clases\n",
    "\n",
    "Crea una clase `Curso` que contenga:\n",
    "\n",
    "* Un atributo `nombre` para el nombre del curso.\n",
    "* Un atributo `estudiantes` que sea una lista de objetos `Estudiante`.\n",
    "* Un método `inscribir_estudiante(estudiante)` que agregue un estudiante al curso.\n",
    "* Un método `promedio_general()` que calcule el promedio de todos los estudiantes del curso.\n",
    "\n",
    "Luego, crea varios objetos `Estudiante`, inscríbelos en un objeto `Curso` y muestra el promedio general."
   ]
  },
  {
   "cell_type": "code",
   "execution_count": null,
   "id": "c61b27a7",
   "metadata": {},
   "outputs": [],
   "source": [
    "# Escribe tu solución aquí\n",
    "\n",
    "class Curso:\n",
    "    def __init__(self, nombre):\n",
    "        self.nombre = nombre\n",
    "        self.estudiantes = []\n",
    "    \n",
    "    def inscribir_estudiante(self, estudiante):\n",
    "        # Completa este método para agregar un estudiante a la lista\n",
    "        pass\n",
    "    \n",
    "    def promedio_general(self):\n",
    "        # Completa este método para calcular el promedio de todos los estudiantes\n",
    "        pass\n",
    "\n",
    "# Crea estudiantes y curso, inscribe y muestra promedio general\n",
    "# estudiante1 = Estudiante('Carlos', [13, 15, 14])\n",
    "# estudiante2 = Estudiante('Lucía', [17, 18, 19])\n",
    "# curso_prog = Curso('Programación')\n",
    "# curso_prog.inscribir_estudiante(estudiante1)\n",
    "# curso_prog.inscribir_estudiante(estudiante2)\n",
    "# print('Promedio general del curso:', curso_prog.promedio_general())\n"
   ]
  }
 ],
 "metadata": {},
 "nbformat": 4,
 "nbformat_minor": 5
}
